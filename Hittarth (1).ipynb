{
 "cells": [
  {
   "cell_type": "code",
   "execution_count": null,
   "metadata": {},
   "outputs": [],
   "source": [
    "import pandas as pd\n",
    "from sklearn.model_selection import train_test_split\n",
    "from sklearn.preprocessing import StandardScaler\n",
    "from sklearn.linear_model import LinearRegression\n",
    "from sklearn.metrics import mean_squared_error, r2_score\n",
    "\n",
    "# Load the data\n",
    "train_data = pd.read_csv(\"train.csv\")\n",
    "test_data = pd.read_csv(\"test.csv\")\n",
    "\n",
    "# Prepare features and target variable\n",
    "X = train_data.drop(columns=['ID', 'medv'])\n",
    "y = train_data['medv']\n",
    "X_test = test_data.drop(columns=['ID'], errors='ignore')\n",
    "\n",
    "# Split the training data into training and validation sets\n",
    "X_train, X_valid, y_train, y_valid = train_test_split(X, y, test_size=0.2, random_state=42)\n",
    "\n",
    "# Scale features\n",
    "scaler = StandardScaler()\n",
    "X_train_scaled = scaler.fit_transform(X_train)\n",
    "X_valid_scaled = scaler.transform(X_valid)\n",
    "X_test_scaled = scaler.transform(X_test)\n",
    "\n",
    "# Initialize and train the Linear Regression model\n",
    "model = LinearRegression()\n",
    "model.fit(X_train_scaled, y_train)\n",
    "\n",
    "# Evaluate the model\n",
    "y_valid_pred = model.predict(X_valid_scaled)\n",
    "mse = mean_squared_error(y_valid, y_valid_pred)\n",
    "r2 = r2_score(y_valid, y_valid_pred)\n",
    "print(f\"Linear Regression - MSE: {mse:.2f}, R2 Score: {r2:.2f}\")\n",
    "\n",
    "# Make predictions on the test data\n",
    "y_test_pred = model.predict(X_test_scaled)\n",
    "\n",
    "# Save predictions to CSV\n",
    "output = pd.DataFrame({'ID': test_data['ID'], 'medv': y_test_pred})\n",
    "output.to_csv(\"linear_regression_predictions.csv\", index=False)\n",
    "print(\"Predictions have been saved.\")\n"
   ]
  }
 ],
 "metadata": {
  "language_info": {
   "name": "python"
  }
 },
 "nbformat": 4,
 "nbformat_minor": 2
}
